{
 "metadata": {
  "name": ""
 },
 "nbformat": 3,
 "nbformat_minor": 0,
 "worksheets": [
  {
   "cells": [
    {
     "cell_type": "code",
     "collapsed": false,
     "input": [
      "import numpy as np\n",
      "from numba import autojit, jit, double"
     ],
     "language": "python",
     "metadata": {},
     "outputs": [
      {
       "ename": "ImportError",
       "evalue": "No module named numba",
       "output_type": "pyerr",
       "traceback": [
        "\u001b[1;31m---------------------------------------------------------------------------\u001b[0m\n\u001b[1;31mImportError\u001b[0m                               Traceback (most recent call last)",
        "\u001b[1;32m<ipython-input-1-3ebfaa72162a>\u001b[0m in \u001b[0;36m<module>\u001b[1;34m()\u001b[0m\n\u001b[0;32m      1\u001b[0m \u001b[1;32mimport\u001b[0m \u001b[0mnumpy\u001b[0m \u001b[1;32mas\u001b[0m \u001b[0mnp\u001b[0m\u001b[1;33m\u001b[0m\u001b[0m\n\u001b[1;32m----> 2\u001b[1;33m \u001b[1;32mfrom\u001b[0m \u001b[0mnumba\u001b[0m \u001b[1;32mimport\u001b[0m \u001b[0mautojit\u001b[0m\u001b[1;33m,\u001b[0m \u001b[0mjit\u001b[0m\u001b[1;33m,\u001b[0m \u001b[0mdouble\u001b[0m\u001b[1;33m\u001b[0m\u001b[0m\n\u001b[0m",
        "\u001b[1;31mImportError\u001b[0m: No module named numba"
       ]
      }
     ],
     "prompt_number": 1
    },
    {
     "cell_type": "code",
     "collapsed": false,
     "input": [
      "@autojit\n",
      "def mandel(x, y, max_iters):\n",
      "    \"\"\"\n",
      "    Given the real and imaginary parts of a complex number,\n",
      "    determine if it is a candidate for membership in the Mandelbrot\n",
      "    set given a fixed number of iterations.\n",
      "    \"\"\"\n",
      "    i = 0\n",
      "    c = complex(x, y)\n",
      "    z = 0.0j\n",
      "    for i in range(max_iters):\n",
      "        z = z**2 + c\n",
      "        if abs(z)**2 >= 4:\n",
      "            return i\n",
      "\n",
      "    return 255\n",
      "\n",
      "@autojit\n",
      "def create_fractal(min_x, max_x, min_y, max_y, image, iters):\n",
      "    height = image.shape[0]\n",
      "    width = image.shape[1]\n",
      "\n",
      "    pixel_size_x = (max_x - min_x) / width\n",
      "    pixel_size_y = (max_y - min_y) / height\n",
      "    for x in range(width):\n",
      "        real = min_x + x * pixel_size_x\n",
      "        for y in range(height):\n",
      "            imag = min_y + y * pixel_size_y\n",
      "            color = mandel(real, imag, iters)\n",
      "            image[y, x] = color\n",
      "\n",
      "    return image\n",
      "\n",
      "image = np.zeros((500, 750), dtype=np.uint8)\n",
      "imshow(create_fractal(-2.0, 1.0, -1.0, 1.0, image, 20))\n",
      "jet()\n"
     ],
     "language": "python",
     "metadata": {},
     "outputs": []
    }
   ],
   "metadata": {}
  }
 ]
}